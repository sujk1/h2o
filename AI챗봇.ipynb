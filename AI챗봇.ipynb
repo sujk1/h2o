{
  "cells": [
    {
      "cell_type": "markdown",
      "metadata": {
        "id": "view-in-github",
        "colab_type": "text"
      },
      "source": [
        "<a href=\"https://colab.research.google.com/github/sujk1/h2o/blob/main/AI%EC%B1%97%EB%B4%87.ipynb\" target=\"_parent\"><img src=\"https://colab.research.google.com/assets/colab-badge.svg\" alt=\"Open In Colab\"/></a>"
      ]
    },
    {
      "cell_type": "markdown",
      "metadata": {
        "id": "tNEm4QYPn6YQ"
      },
      "source": [
        "참고: https://github.com/kairess/mental-health-chatbot"
      ]
    },
    {
      "cell_type": "code",
      "execution_count": null,
      "metadata": {
        "id": "Ju89ucIWiwgM"
      },
      "outputs": [],
      "source": [
        "!pip install sentence_transformers"
      ]
    },
    {
      "cell_type": "code",
      "execution_count": null,
      "metadata": {
        "id": "7T12iBXoilPN"
      },
      "outputs": [],
      "source": [
        "import pandas as pd\n",
        "from sentence_transformers import SentenceTransformer\n",
        "from sklearn.metrics.pairwise import cosine_similarity\n",
        "pd.set_option('mode.chained_assignment',  None)  # warning 제거"
      ]
    },
    {
      "cell_type": "markdown",
      "metadata": {
        "id": "nVfWtgB2ilPR"
      },
      "source": [
        "# SentenceBERT 모델 로드"
      ]
    },
    {
      "cell_type": "code",
      "execution_count": null,
      "metadata": {
        "id": "bbX_LrguilPS"
      },
      "outputs": [],
      "source": [
        "model = SentenceTransformer('jhgan/ko-sroberta-multitask') #PLM\n",
        "\n",
        "sentences = [\"안녕하세요?\", \"한국어 문장 임베딩을 위한 버트 모델입니다.\"]\n",
        "embeddings = model.encode(sentences)\n",
        "\n",
        "print(embeddings)"
      ]
    },
    {
      "cell_type": "markdown",
      "metadata": {
        "id": "4a5bjsM_ilPT"
      },
      "source": [
        "# 데이터셋 로드\n",
        "\n",
        "웰니스 대화 스크립트 데이터셋(참고용)\n",
        "\n",
        "https://aihub.or.kr/opendata/keti-data/recognition-laguage/KETI-02-006\n",
        "\n",
        "---\n",
        "\n",
        "**🔗다운로드 링크(아래 링크 클릭하여 파일 다운로드 받은 후, 코랩 왼쪽 사이드에 업로드)** \n",
        "\n",
        "1) 아래 링크 클릭하여 파일 다운로드\n",
        "\n",
        "2) 왼쪽 사이드(파일)에 업로드\n",
        "\n",
        "3) 다운로드 받은 파일을 구글 스프레드시트로 열어서 내용을 추가하면 그 내용을 답변하는 챗봇으로 업그레이드 할 수 있음\n",
        "\n",
        "4) 구글 스프레드시트로 열어서 내용 추가한 후에 CSV로 다시 저장하고, 그 파일을 왼쪽 사이드에 업로드(이때, 파일명 주의)\n",
        "\n",
        "https://drive.google.com/uc?export=download&id=1MiMBWmI9-7uBZx6G7O3Vpae99ZoPfxYx\n",
        "\n",
        "![5054.png](data:image/png;base64,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)"
      ]
    },
    {
      "cell_type": "code",
      "execution_count": null,
      "metadata": {
        "id": "Ea_hlur3ilPT"
      },
      "outputs": [],
      "source": [
        "df = pd.read_csv('wellness_dataset_original.csv')  # 왼쪽 사이드(파일)에 업로드한 파일명과 동일해야 함\n",
        "\n",
        "df.head()"
      ]
    },
    {
      "cell_type": "markdown",
      "metadata": {
        "id": "Hwx4nMboilPU"
      },
      "source": [
        "# 전처리"
      ]
    },
    {
      "cell_type": "code",
      "execution_count": null,
      "metadata": {
        "id": "iJTAavOZilPV"
      },
      "outputs": [],
      "source": [
        "df = df[~df['챗봇'].isna()]\n",
        "\n",
        "df.head()"
      ]
    },
    {
      "cell_type": "code",
      "execution_count": null,
      "metadata": {
        "id": "DKxMXqvailPV",
        "colab": {
          "base_uri": "https://localhost:8080/",
          "height": 35
        },
        "outputId": "75c0de22-2259-4ed6-9179-27c73686e5d0"
      },
      "outputs": [
        {
          "output_type": "execute_result",
          "data": {
            "text/plain": [
              "'제 감정이 이상해진 것 같아요. 남편만 보면 화가 치밀어 오르고 감정 조절이 안되요.'"
            ],
            "application/vnd.google.colaboratory.intrinsic+json": {
              "type": "string"
            }
          },
          "metadata": {},
          "execution_count": 6
        }
      ],
      "source": [
        "df.loc[0, '유저']"
      ]
    },
    {
      "cell_type": "code",
      "execution_count": null,
      "metadata": {
        "id": "Tpk0X54GilPW"
      },
      "outputs": [],
      "source": [
        "model.encode(df.loc[0, '유저'])"
      ]
    },
    {
      "cell_type": "markdown",
      "metadata": {
        "id": "rREmZ9cmilPW"
      },
      "source": [
        "# 유저 대화내용 인코딩"
      ]
    },
    {
      "cell_type": "code",
      "execution_count": null,
      "metadata": {
        "id": "fqOGe99XilPW"
      },
      "outputs": [],
      "source": [
        "df['embedding'] = pd.Series([[]] * len(df)) # dummy\n",
        "\n",
        "df['embedding'] = df['유저'].map(lambda x: list(model.encode(x)))\n",
        "\n",
        "df.head()"
      ]
    },
    {
      "cell_type": "code",
      "execution_count": null,
      "metadata": {
        "id": "CElrCmtMilPX"
      },
      "outputs": [],
      "source": [
        "df.to_csv('wellness_dataset.csv', index=False)"
      ]
    },
    {
      "cell_type": "markdown",
      "metadata": {
        "id": "csQySJDpilPX"
      },
      "source": [
        "# 간단한 챗봇\n",
        "맨 아래의 셀이 완성된 챗봇임"
      ]
    },
    {
      "cell_type": "code",
      "execution_count": null,
      "metadata": {
        "id": "eIUlU9cailPX"
      },
      "outputs": [],
      "source": [
        "text = '요즘 머리가 아프고 너무 힘들어'\n",
        "\n",
        "embedding = model.encode(text)"
      ]
    },
    {
      "cell_type": "code",
      "execution_count": null,
      "metadata": {
        "id": "7Fl6_6qnilPY"
      },
      "outputs": [],
      "source": [
        "df['distance'] = df['embedding'].map(lambda x: cosine_similarity([embedding], [x]).squeeze())\n",
        "\n",
        "df.head(20)"
      ]
    },
    {
      "cell_type": "code",
      "execution_count": null,
      "metadata": {
        "id": "AfDCaNmhilPY"
      },
      "outputs": [],
      "source": [
        "answer = df.loc[df['distance'].idxmax()]\n",
        "\n",
        "print('구분', answer['구분'])\n",
        "print('유사한 질문', answer['유저'])\n",
        "print('챗봇 답변', answer['챗봇'])\n",
        "print('유사도', answer['distance'])"
      ]
    },
    {
      "cell_type": "code",
      "execution_count": null,
      "metadata": {
        "id": "6Hpd2PKMmgGp",
        "colab": {
          "base_uri": "https://localhost:8080/"
        },
        "outputId": "c2d2ab27-9adf-4aaf-8981-e42bd9bda5f5"
      },
      "outputs": [
        {
          "output_type": "stream",
          "name": "stdout",
          "text": [
            "그만하고 싶으시면 '그만'이라고 입력하세요.\n",
            "사용자: 요즘들어서 머리가 계속 아파요 어쩌면 좋죠?\n",
            "챗봇: 으으, 머리가 아프면 정말 힘들죠. 그 마음 정말 이해해요.\n",
            "사용자: 식욕도 없어지도 계속 지친 기분이 드네요.\n",
            "챗봇: 사람에게 잠은 꼭 필요한 것 같아요. 당신이 얼른 숙면을 취하셨으면 좋겠네요.\n",
            "사용자: 잠을 푹자면 괜찮아 질까요?\n",
            "챗봇: 밤에 잠을 못 자면 낮생활이 힘겨워지잖아요. 고민이 많으시겠어요.\n",
            "사용자: 네 알겠습니다. 오늘은 일찍 잘게요.\n",
            "챗봇: 충분한 휴식은 일상의 활력이 된답니다.\n",
            "사용자: 참! 우리학교 1학기 중간고사 기간이 언제였죠?\n",
            "챗봇: 4월29일~5월4일입니다.\n",
            "사용자: 그만\n",
            "챗봇: 안녕히 가세요.\n"
          ]
        }
      ],
      "source": [
        "# 완성된 챗봇 실행\n",
        "print(\"그만하고 싶으시면 '그만'이라고 입력하세요.\")\n",
        "while 1:\n",
        "    text=input(\"사용자: \")\n",
        "    if text==\"그만\": print(\"챗봇: 안녕히 가세요.\"); break\n",
        "    embedding = model.encode(text)\n",
        "    df['distance'] = df['embedding'].map(lambda x: cosine_similarity([embedding], [x]).squeeze())\n",
        "    answer = df.loc[df['distance'].idxmax()]\n",
        "    answer=answer[\"챗봇\"]\n",
        "    print(f\"챗봇: {answer}\")"
      ]
    }
  ],
  "metadata": {
    "colab": {
      "collapsed_sections": [],
      "name": "AI챗봇.ipynb",
      "provenance": [],
      "include_colab_link": true
    },
    "kernelspec": {
      "display_name": "Python 3",
      "language": "python",
      "name": "python3"
    },
    "language_info": {
      "codemirror_mode": {
        "name": "ipython",
        "version": 3
      },
      "file_extension": ".py",
      "mimetype": "text/x-python",
      "name": "python",
      "nbconvert_exporter": "python",
      "pygments_lexer": "ipython3",
      "version": "3.9.8"
    }
  },
  "nbformat": 4,
  "nbformat_minor": 0
}